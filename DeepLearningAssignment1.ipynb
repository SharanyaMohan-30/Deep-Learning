{
  "nbformat": 4,
  "nbformat_minor": 0,
  "metadata": {
    "colab": {
      "name": "DeepLearningAssignment1.ipynb",
      "provenance": [],
      "collapsed_sections": []
    },
    "kernelspec": {
      "name": "python3",
      "display_name": "Python 3"
    }
  },
  "cells": [
    {
      "cell_type": "code",
      "metadata": {
        "id": "ouDBIok_oOEM",
        "colab_type": "code",
        "outputId": "a29c4dfc-270b-4ab2-e016-bd94a39d7f5e",
        "colab": {
          "base_uri": "https://localhost:8080/",
          "height": 34
        }
      },
      "source": [
        "#Authors : Bhargav Muktevi,Chaitanya Upadrasta,Sharanya Hunasamranahalli Thotadarya\n",
        "import os\n",
        "os.getcwd()"
      ],
      "execution_count": 0,
      "outputs": [
        {
          "output_type": "execute_result",
          "data": {
            "text/plain": [
              "'/content'"
            ]
          },
          "metadata": {
            "tags": []
          },
          "execution_count": 1
        }
      ]
    },
    {
      "cell_type": "code",
      "metadata": {
        "id": "XD27VoProRUM",
        "colab_type": "code",
        "outputId": "f14545bf-42d8-4256-b807-7e691657cf4c",
        "colab": {
          "base_uri": "https://localhost:8080/",
          "height": 138
        }
      },
      "source": [
        "from google.colab import drive\n",
        "drive.mount('/content/drive/')\n",
        "%cd 'drive/My Drive/Colab Notebooks'\n"
      ],
      "execution_count": 0,
      "outputs": [
        {
          "output_type": "stream",
          "text": [
            "Go to this URL in a browser: https://accounts.google.com/o/oauth2/auth?client_id=947318989803-6bn6qk8qdgf4n4g3pfee6491hc0brc4i.apps.googleusercontent.com&redirect_uri=urn%3aietf%3awg%3aoauth%3a2.0%3aoob&response_type=code&scope=email%20https%3a%2f%2fwww.googleapis.com%2fauth%2fdocs.test%20https%3a%2f%2fwww.googleapis.com%2fauth%2fdrive%20https%3a%2f%2fwww.googleapis.com%2fauth%2fdrive.photos.readonly%20https%3a%2f%2fwww.googleapis.com%2fauth%2fpeopleapi.readonly\n",
            "\n",
            "Enter your authorization code:\n",
            "··········\n",
            "Mounted at /content/drive/\n",
            "/content/drive/My Drive/Colab Notebooks\n"
          ],
          "name": "stdout"
        }
      ]
    },
    {
      "cell_type": "code",
      "metadata": {
        "id": "RfITO7pModuH",
        "colab_type": "code",
        "colab": {}
      },
      "source": [
        "import tensorflow as tf\n",
        "import numpy as np\n",
        "import matplotlib.pyplot as plt\n",
        "from datasets import MNISTDataset\n",
        "import pandas as pd\n",
        "import matplotlib.pyplot as plt"
      ],
      "execution_count": 0,
      "outputs": []
    },
    {
      "cell_type": "code",
      "metadata": {
        "id": "22VJ7AphqrNg",
        "colab_type": "code",
        "outputId": "148fbccd-a78c-4d85-da08-5e49db67e606",
        "colab": {
          "base_uri": "https://localhost:8080/",
          "height": 298
        }
      },
      "source": [
        "mnist = tf.keras.datasets.mnist\n",
        "(train_images, train_labels), (test_images, test_labels) = mnist.load_data()\n",
        "\n",
        "plt.imshow(train_images[0], cmap=\"Greys_r\")\n",
        "\n",
        "data = MNISTDataset(train_images.reshape([-1, 784]), train_labels, \n",
        "                    test_images.reshape([-1, 784]), test_labels,\n",
        "                    batch_size=128)"
      ],
      "execution_count": 0,
      "outputs": [
        {
          "output_type": "stream",
          "text": [
            "Downloading data from https://storage.googleapis.com/tensorflow/tf-keras-datasets/mnist.npz\n",
            "11493376/11490434 [==============================] - 0s 0us/step\n"
          ],
          "name": "stdout"
        },
        {
          "output_type": "display_data",
          "data": {
            "image/png": "[encoded data removed]",
            "text/plain": [
              "<Figure size 432x288 with 1 Axes>"
            ]
          },
          "metadata": {
            "tags": [],
            "needs_background": "light"
          }
        }
      ]
    },
    {
      "cell_type": "code",
      "metadata": {
        "id": "32LtI1zKtQZb",
        "colab_type": "code",
        "colab": {}
      },
      "source": [
        "train_steps = 1000\n",
        "learning_rate = 0.1\n",
        "W1 = tf.Variable(tf.random.uniform(shape=[784, 10], minval=-0.1, maxval=0.1))\n",
        "W2 = tf.Variable(tf.random.uniform(shape=[10, 10], minval=-0.1, maxval=0.1))\n",
        "b1 = tf.Variable(tf.random.uniform(shape=[10], minval=-0.1, maxval=0.1))\n",
        "b2 = tf.Variable(tf.random.uniform(shape=[10], minval=-0.1, maxval=0.1))\n"
      ],
      "execution_count": 0,
      "outputs": []
    },
    {
      "cell_type": "code",
      "metadata": {
        "id": "fw_lJYvlE4x3",
        "colab_type": "code",
        "colab": {}
      },
      "source": [
        "learning = []\n",
        "Accuracy = []"
      ],
      "execution_count": 0,
      "outputs": []
    },
    {
      "cell_type": "code",
      "metadata": {
        "id": "WY28SGzPtzHy",
        "colab_type": "code",
        "outputId": "aedcca56-68c4-4bc7-eea1-6ca4490aad7b",
        "colab": {
          "base_uri": "https://localhost:8080/",
          "height": 483
        }
      },
      "source": [
        "for step in range(train_steps):\n",
        "    img_batch, lbl_batch = data.next_batch()\n",
        "    with tf.GradientTape() as tape:\n",
        "      #logits1 = tf.nn.relu(tf.matmul(img_batch, W1) + b1)\n",
        "      logits1 = tf.matmul(img_batch, W1) + b1\n",
        "      logits2 = tf.matmul(logits1, W2) + b2\n",
        "      xent = tf.reduce_mean(tf.nn.sparse_softmax_cross_entropy_with_logits(\n",
        "            logits=logits2, labels=lbl_batch)) #cross entropy loss for the batch of images\n",
        "\n",
        "    grads = tape.gradient(xent, [W1,b1,W2, b2])#gradient calculation using auto differentiation\n",
        "    W1.assign_sub(learning_rate * grads[0])\n",
        "    b1.assign_sub(learning_rate * grads[1])\n",
        "    W2.assign_sub(learning_rate * grads[2])\n",
        "    b2.assign_sub(learning_rate * grads[3])\n",
        "    #W3.assign_sub(learning_rate * grads[4])\n",
        "    #b3.assign_sub(learning_rate * grads[5])\n",
        "    if not step % 100:\n",
        "      #learning_rate=learning_rate/10 (decaying learning rate)\n",
        "      preds = tf.argmax(logits2, axis=1, output_type=tf.int32)\n",
        "      if step == 800:\n",
        "        Output = [index for index, elem in enumerate(lbl_batch) if elem != preds[index]] \n",
        "        plt.imshow(img_batch[Output[1]].reshape([28,28]), cmap=\"Greys_r\")\n",
        "        print(preds[Output[1]].numpy())\n",
        "        #plt.imshow(train_images[0], cmap=\"Greys_r\")\n",
        "        \n",
        "      acc = tf.reduce_mean(tf.cast(tf.equal(preds, lbl_batch),\n",
        "                             tf.float32)) #accuracy of training set\n",
        "      learning.append(step)\n",
        "      Accuracy.append(acc.numpy())\n",
        "      print(\"Loss: {} Accuracy: {}\".format(xent, acc))\n"
      ],
      "execution_count": 0,
      "outputs": [
        {
          "output_type": "stream",
          "text": [
            "Loss: 2.2931506633758545 Accuracy: 0.0703125\n",
            "Loss: 0.7456008791923523 Accuracy: 0.7890625\n",
            "Loss: 0.5444620847702026 Accuracy: 0.875\n",
            "Loss: 0.40512511134147644 Accuracy: 0.8828125\n",
            "Loss: 0.4975578188896179 Accuracy: 0.890625\n",
            "Starting new epoch...\n",
            "Loss: 0.3652417063713074 Accuracy: 0.8984375\n",
            "Loss: 0.3534565567970276 Accuracy: 0.8828125\n",
            "Loss: 0.4238622784614563 Accuracy: 0.8984375\n",
            "4\n",
            "Loss: 0.281074583530426 Accuracy: 0.890625\n",
            "Loss: 0.3031618595123291 Accuracy: 0.90625\n",
            "Starting new epoch...\n"
          ],
          "name": "stdout"
        },
        {
          "output_type": "display_data",
          "data": {
            "image/png": "[encoded data removed]",
            "text/plain": [
              "<Figure size 432x288 with 1 Axes>"
            ]
          },
          "metadata": {
            "tags": [],
            "needs_background": "light"
          }
        }
      ]
    },
    {
      "cell_type": "markdown",
      "metadata": {
        "id": "O-BlzoEccujO",
        "colab_type": "text"
      },
      "source": [
        " Misclassified example after 800 training steps.Prediction was checked at 800th step under the assumption that the model would have learn't parameters well."
      ]
    },
    {
      "cell_type": "code",
      "metadata": {
        "id": "xk3pskO6bvj9",
        "colab_type": "code",
        "outputId": "d8ad36ef-a392-4409-cbeb-1a6dcc7a2544",
        "colab": {
          "base_uri": "https://localhost:8080/",
          "height": 34
        }
      },
      "source": [
        " #test accuracy    \n",
        " #l1=tf.nn.relu(tf.matmul(data.test_data, W1) + b1)\n",
        " l1=(tf.matmul(data.test_data, W1) + b1)\n",
        "\n",
        " l2=tf.nn.softmax(tf.matmul(l1, W2) + b2)\n",
        "\n",
        "#l3=tf.matmul(l2, W3) + b3\n",
        "test_preds = tf.argmax(l2, axis=1, output_type=tf.int32)\n",
        "test_acc = tf.reduce_mean(tf.cast(tf.equal(test_preds, data.test_labels),\n",
        "                             tf.float32))*100   #test accuracy                       \n",
        "test_acc"
      ],
      "execution_count": 0,
      "outputs": [
        {
          "output_type": "execute_result",
          "data": {
            "text/plain": [
              "<tf.Tensor: shape=(), dtype=float32, numpy=91.299995>"
            ]
          },
          "metadata": {
            "tags": []
          },
          "execution_count": 8
        }
      ]
    },
    {
      "cell_type": "markdown",
      "metadata": {
        "id": "ZDsO-UwLHwdN",
        "colab_type": "text"
      },
      "source": [
        ""
      ]
    },
    {
      "cell_type": "markdown",
      "metadata": {
        "id": "jjnPjDt4NiKG",
        "colab_type": "text"
      },
      "source": [
        "**OBSERVATIONS**\n",
        "\n",
        "**Different Variables that affect the output:**\n",
        "\n",
        "1) **weights,biases:**\n",
        "\n",
        "Cannot initialize weights to zero as the error propogated through all the neurons will be zero .This will lead to slow learning.This issue also happens when all the weights are equal\n",
        "\n",
        "\n",
        "---\n",
        "\n",
        "\n",
        "2) **layers:**\n",
        "As the number of layers are increased,the model tends to overfit.\n",
        "\n",
        "---\n",
        "\n",
        "\n",
        "3) **activations:**\n",
        "Linear activation for hidden layer outperforms(although not very significantly) Relu and sigmoid.\n",
        "Softmax was used as it's a multicalss classification problem\n",
        "\n",
        "---\n",
        "\n",
        "\n",
        "\n",
        "4) **learning rate:**\n",
        "The model performs poorly when the learning rate is increased.Another strange thing that was observed is that as the learning rate is decayed by a factor of 10 for every 100 training steps ,the accuracy of the model decreases.The expectation was that the model would perform better with a lower learning rate when it's closer to the global minimum.However,the interdependecies between various variables (like training size,batch size,layers) was not considered.\n",
        "\n",
        "\n",
        "\n",
        "---\n",
        "\n",
        "\n",
        "\n",
        "5) **Training steps:**\n",
        "Accuracy improves as the no of training steps are increased but after a certain numbe "
      ]
    }
  ]
}