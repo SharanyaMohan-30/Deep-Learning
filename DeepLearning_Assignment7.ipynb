{
  "nbformat": 4,
  "nbformat_minor": 0,
  "metadata": {
    "colab": {
      "name": "DeepLearning_Assignment7",
      "provenance": [],
      "collapsed_sections": []
    },
    "kernelspec": {
      "name": "python3",
      "display_name": "Python 3"
    }
  },
  "cells": [
    {
      "cell_type": "code",
      "metadata": {
        "id": "Lcm2nGGkMOeh",
        "colab_type": "code",
        "colab": {}
      },
      "source": [
        "#Bhargav Muktevi ,Chaitanya Upadrasta, Sharanya Hunasamranahalli Thotadarya"
      ],
      "execution_count": 0,
      "outputs": []
    },
    {
      "cell_type": "code",
      "metadata": {
        "id": "5cTsohaoL9xT",
        "colab_type": "code",
        "colab": {}
      },
      "source": [
        "import tensorflow as tf"
      ],
      "execution_count": 0,
      "outputs": []
    },
    {
      "cell_type": "markdown",
      "metadata": {
        "id": "BsOLYMteKKiV",
        "colab_type": "text"
      },
      "source": [
        "# **1.Given a 2D tensor of shape (?, n), extract the k (k <= n) highest values for each row into a tensor of shape (?, k). Hint: There might be a function to get the “top k” values of a tensor.**"
      ]
    },
    {
      "cell_type": "code",
      "metadata": {
        "id": "1SDnA2hiKHB4",
        "colab_type": "code",
        "colab": {}
      },
      "source": [
        "@tf.function\n",
        "def topk(input, k):\n",
        "  if input.shape[1] < k:\n",
        "    return \"Not valid K value\"\n",
        " \n",
        "   \n",
        "  return tf.math.top_k(input, k)[0]\n",
        "  "
      ],
      "execution_count": 0,
      "outputs": []
    },
    {
      "cell_type": "code",
      "metadata": {
        "id": "KVDM8XXeIaVx",
        "colab_type": "code",
        "outputId": "cef805e7-c6a1-4f0d-f795-891d7efa35cb",
        "colab": {
          "base_uri": "https://localhost:8080/",
          "height": 588
        }
      },
      "source": [
        "RandomVariable = tf.Variable(tf.random.uniform([10,20],minval=1,maxval=20,dtype=tf.int32))\n",
        "print(RandomVariable.shape)\n",
        "print(RandomVariable)\n",
        "print(RandomVariable.shape[1])\n",
        "\n",
        "output = topk(RandomVariable,4)\n",
        "\n",
        "\n",
        "print(output)"
      ],
      "execution_count": 0,
      "outputs": [
        {
          "output_type": "stream",
          "text": [
            "(10, 20)\n",
            "<tf.Variable 'Variable:0' shape=(10, 20) dtype=int32, numpy=\n",
            "array([[ 4, 19, 11, 16, 19, 10,  5, 17,  5, 19, 10, 19,  4,  7,  4, 15,\n",
            "         1, 14,  3,  5],\n",
            "       [ 5,  1, 11, 19, 18, 11,  4,  8, 12,  4,  9,  1, 19,  5, 16, 16,\n",
            "        14,  2, 16,  5],\n",
            "       [15, 18,  1,  2,  2, 17, 12, 19, 10,  4,  1, 11, 15, 11, 13,  1,\n",
            "        11, 19, 17, 16],\n",
            "       [19, 15, 14,  6,  9, 14,  9,  4,  5,  8, 16,  7, 14,  1, 19,  9,\n",
            "        12, 14, 17, 18],\n",
            "       [ 5,  9, 11,  4, 12,  7,  4,  9,  2, 17, 19, 17,  7, 15, 11,  7,\n",
            "        17, 17, 14,  9],\n",
            "       [18,  7,  9,  2,  1,  6,  4, 15, 10, 10,  9,  9,  3,  7, 18, 15,\n",
            "        16, 10, 15, 12],\n",
            "       [ 8,  3,  4, 14, 19,  4, 11, 17, 18, 15, 18, 16, 10,  3,  6, 11,\n",
            "        16,  4, 13, 13],\n",
            "       [18, 19,  8,  7,  3,  6,  6,  9,  4,  8,  1, 15, 10,  3,  8,  1,\n",
            "        18, 11,  9, 17],\n",
            "       [ 3,  5,  3,  5, 10,  8, 17, 13, 16,  6, 11,  7, 14, 12, 16,  9,\n",
            "         8,  2,  1, 15],\n",
            "       [ 1, 15,  6,  9,  8, 16, 12,  1, 12, 10, 18,  7, 12,  2, 15, 17,\n",
            "        19,  5,  1,  6]], dtype=int32)>\n",
            "20\n",
            "tf.Tensor(\n",
            "[[19 19 19 19]\n",
            " [19 19 18 16]\n",
            " [19 19 18 17]\n",
            " [19 19 18 17]\n",
            " [19 17 17 17]\n",
            " [18 18 16 15]\n",
            " [19 18 18 17]\n",
            " [19 18 18 17]\n",
            " [17 16 16 15]\n",
            " [19 18 17 16]], shape=(10, 4), dtype=int32)\n"
          ],
          "name": "stdout"
        }
      ]
    },
    {
      "cell_type": "markdown",
      "metadata": {
        "id": "8geCTZtFdj_Z",
        "colab_type": "text"
      },
      "source": [
        "# **2.Given a tensor of shape (?, n), find the argmax in each row and return a new tensor that contains a 1 in each of the argmax’ positions, and 0s everywhere else.**"
      ]
    },
    {
      "cell_type": "code",
      "metadata": {
        "id": "BiAtGnN5eg4Y",
        "colab_type": "code",
        "colab": {}
      },
      "source": [
        "@tf.function\n",
        "def argmax_output(input):\n",
        "  argmax_row = tf.math.argmax(input,axis=1)\n",
        "  print(\"the shape is\",argmax_row.shape)\n",
        "  argmax_onehot = tf.one_hot(argmax_row,input.shape[1])\n",
        "  print(input.shape[0])\n",
        "  print(input.shape[1])\n",
        "\n",
        "  return argmax_onehot"
      ],
      "execution_count": 0,
      "outputs": []
    },
    {
      "cell_type": "code",
      "metadata": {
        "id": "3z_k_ZjwehwW",
        "colab_type": "code",
        "outputId": "c9785558-24d8-4a0e-d794-f73985785789",
        "colab": {
          "base_uri": "https://localhost:8080/",
          "height": 622
        }
      },
      "source": [
        "RandomVariable = tf.Variable(tf.random.uniform([10,20],minval=1,maxval=30,dtype=tf.int32))\n",
        "print(RandomVariable.shape)\n",
        "print(RandomVariable)\n",
        "output = argmax_output(RandomVariable)\n",
        "print(output)"
      ],
      "execution_count": 0,
      "outputs": [
        {
          "output_type": "stream",
          "text": [
            "(10, 20)\n",
            "<tf.Variable 'Variable:0' shape=(10, 20) dtype=int32, numpy=\n",
            "array([[19, 26, 21,  6, 19,  5,  1, 21, 27,  5, 16,  1, 25, 14, 20, 20,\n",
            "        17, 13, 27, 24],\n",
            "       [18, 19, 22,  7, 13, 25, 18, 25,  7, 20, 22, 14,  9, 14, 19, 27,\n",
            "        24, 27, 19, 19],\n",
            "       [12, 28,  1, 23,  9, 12, 25, 28, 20, 14, 11,  2, 10,  8,  6, 20,\n",
            "         4,  2,  5, 24],\n",
            "       [15, 13, 10, 10,  8, 28, 16, 13, 27, 10,  6, 16, 12, 12,  7, 16,\n",
            "        13, 11, 29, 24],\n",
            "       [28,  3, 19, 15, 15, 26,  1, 25, 11, 12,  9,  4,  3, 24, 22, 14,\n",
            "        16, 27, 24, 21],\n",
            "       [26,  3, 16,  4, 26,  3,  5,  2,  6,  8, 22, 27,  8, 27, 25, 16,\n",
            "        14, 29,  4, 16],\n",
            "       [28,  2, 15, 22, 25, 23, 23, 23,  6, 24, 27, 25, 11, 26, 16,  2,\n",
            "        18, 19, 25,  5],\n",
            "       [16, 20, 23,  7, 12,  1, 10, 16, 15,  2, 22, 27,  9, 11, 12,  7,\n",
            "         9, 28,  8,  1],\n",
            "       [ 7, 10, 17, 19, 26, 11, 24, 16, 14,  5, 17, 13, 18, 26,  6, 27,\n",
            "        19,  7, 20,  7],\n",
            "       [28, 17, 29,  4, 27, 27, 29, 28,  4, 24,  9, 25,  7, 19, 24,  4,\n",
            "        28, 16, 22,  6]], dtype=int32)>\n",
            "the shape is (10,)\n",
            "10\n",
            "20\n",
            "tf.Tensor(\n",
            "[[0. 0. 0. 0. 0. 0. 0. 0. 1. 0. 0. 0. 0. 0. 0. 0. 0. 0. 0. 0.]\n",
            " [0. 0. 0. 0. 0. 0. 0. 0. 0. 0. 0. 0. 0. 0. 0. 1. 0. 0. 0. 0.]\n",
            " [0. 1. 0. 0. 0. 0. 0. 0. 0. 0. 0. 0. 0. 0. 0. 0. 0. 0. 0. 0.]\n",
            " [0. 0. 0. 0. 0. 0. 0. 0. 0. 0. 0. 0. 0. 0. 0. 0. 0. 0. 1. 0.]\n",
            " [1. 0. 0. 0. 0. 0. 0. 0. 0. 0. 0. 0. 0. 0. 0. 0. 0. 0. 0. 0.]\n",
            " [0. 0. 0. 0. 0. 0. 0. 0. 0. 0. 0. 0. 0. 0. 0. 0. 0. 1. 0. 0.]\n",
            " [1. 0. 0. 0. 0. 0. 0. 0. 0. 0. 0. 0. 0. 0. 0. 0. 0. 0. 0. 0.]\n",
            " [0. 0. 0. 0. 0. 0. 0. 0. 0. 0. 0. 0. 0. 0. 0. 0. 0. 1. 0. 0.]\n",
            " [0. 0. 0. 0. 0. 0. 0. 0. 0. 0. 0. 0. 0. 0. 0. 1. 0. 0. 0. 0.]\n",
            " [0. 0. 1. 0. 0. 0. 0. 0. 0. 0. 0. 0. 0. 0. 0. 0. 0. 0. 0. 0.]], shape=(10, 20), dtype=float32)\n"
          ],
          "name": "stdout"
        }
      ]
    },
    {
      "cell_type": "markdown",
      "metadata": {
        "id": "AaWlrfBQw-1z",
        "colab_type": "text"
      },
      "source": [
        "# **As in 1., but instead of “extracting” the top k values, create a new tensor with shape (?, n) where all but the top k values for each row are zero. Try doing this with a 1D tensor of shape (n,) (i.e. one row) first. Getting it right for a 2D tensor is more tricky; consider this a bonus. Hint: You should look for a way to “scatter” a tensor of values into a different tensor. For two or more dimensions, you need to think carefully about the indices.**"
      ]
    },
    {
      "cell_type": "code",
      "metadata": {
        "id": "J8ugX4hlxKUP",
        "colab_type": "code",
        "colab": {}
      },
      "source": [
        "@tf.function\n",
        "def topk_1D_tensor(input, k):\n",
        "  values, indices = tf.math.top_k(input,k)\n",
        "  print(indices.shape)\n",
        "  print(values.shape)\n",
        "  indices = tf.reshape(indices, (k,1))\n",
        "  return tf.scatter_nd(indices, values, input.shape)\n"
      ],
      "execution_count": 0,
      "outputs": []
    },
    {
      "cell_type": "code",
      "metadata": {
        "id": "M9OmJH8TyCML",
        "colab_type": "code",
        "outputId": "a58767ed-4500-4f6a-e285-1836868b0388",
        "colab": {
          "base_uri": "https://localhost:8080/",
          "height": 134
        }
      },
      "source": [
        "RandomVariable = tf.Variable(tf.random.uniform([20],minval=1,maxval=30,dtype=tf.int32))\n",
        "print(RandomVariable)\n",
        "print(\"*******************\")\n",
        "output = topk_1D_tensor(RandomVariable,4)\n",
        "print(output)"
      ],
      "execution_count": 0,
      "outputs": [
        {
          "output_type": "stream",
          "text": [
            "<tf.Variable 'Variable:0' shape=(20,) dtype=int32, numpy=\n",
            "array([ 7, 22, 14, 19,  6, 25,  4, 18,  6, 19,  1, 15, 26, 19, 25, 15, 22,\n",
            "        2,  4, 11], dtype=int32)>\n",
            "*******************\n",
            "(4,)\n",
            "(4,)\n",
            "tf.Tensor([ 0 22  0  0  0 25  0  0  0  0  0  0 26  0 25  0  0  0  0  0], shape=(20,), dtype=int32)\n"
          ],
          "name": "stdout"
        }
      ]
    },
    {
      "cell_type": "code",
      "metadata": {
        "id": "JjGNHA4K-KSl",
        "colab_type": "code",
        "colab": {}
      },
      "source": [
        "@tf.function \n",
        "def topk_2D_tensor(input, k):\n",
        "  def topk_1D_tensor(input):\n",
        "    values, indices = tf.math.top_k(input,k)\n",
        "    indices = tf.reshape(indices, (k,1))\n",
        "    return tf.scatter_nd(indices, values, input.shape)\n",
        "  \n",
        "  output = tf.map_fn(topk_1D_tensor,input)\n",
        "  return output"
      ],
      "execution_count": 0,
      "outputs": []
    },
    {
      "cell_type": "code",
      "metadata": {
        "id": "IP1WQdvE-PIt",
        "colab_type": "code",
        "outputId": "cc780c66-f7be-4624-8ac3-3bb73f2ad1a3",
        "colab": {
          "base_uri": "https://localhost:8080/",
          "height": 571
        }
      },
      "source": [
        "RandomVariable = tf.Variable(tf.random.uniform([10,20],minval=1,maxval=30,dtype=tf.int32))\n",
        "print(RandomVariable)\n",
        "print(\"*******************\")\n",
        "output = topk_2D_tensor(RandomVariable,4)\n",
        "print(output)"
      ],
      "execution_count": 0,
      "outputs": [
        {
          "output_type": "stream",
          "text": [
            "<tf.Variable 'Variable:0' shape=(10, 20) dtype=int32, numpy=\n",
            "array([[ 8, 16, 10, 16, 24, 17, 12, 26, 22, 14, 19, 15,  5,  5, 17, 15,\n",
            "         3, 21, 20, 20],\n",
            "       [25, 18, 24, 26, 27, 20, 16, 23,  9, 17, 14,  3,  7,  4, 28, 25,\n",
            "        16, 12,  3, 11],\n",
            "       [28, 17, 15,  4, 22,  6,  3, 22,  5, 25,  9, 13, 16, 24, 16, 18,\n",
            "        28, 12,  8, 24],\n",
            "       [27, 18, 22, 29, 10, 14,  2, 13,  3,  3,  8, 21,  9, 24, 13, 22,\n",
            "         3,  2,  3,  8],\n",
            "       [15, 19, 22, 21, 23, 14, 19, 18,  2,  6,  6, 13, 23, 22,  1, 12,\n",
            "        17, 15, 18, 27],\n",
            "       [16, 17,  6, 12, 20, 25, 13,  6,  7, 11,  1, 11, 28, 26,  3,  9,\n",
            "        28, 29, 20, 25],\n",
            "       [18, 16,  1, 29, 27, 14, 12,  6, 13,  9, 24, 27,  5,  3, 10,  6,\n",
            "         7, 14,  5, 18],\n",
            "       [19,  9,  7, 20, 25,  9, 18, 26, 21, 17, 20, 19,  9, 16, 22,  1,\n",
            "         1, 24, 19, 20],\n",
            "       [ 7, 11, 19, 28,  2, 18,  1, 19, 24, 22, 16, 22, 10, 21, 21,  4,\n",
            "         4, 19, 11,  4],\n",
            "       [25, 13, 24,  1, 15, 27, 20, 12,  2, 19,  7, 20, 15, 28,  8,  9,\n",
            "        16, 16, 24, 20]], dtype=int32)>\n",
            "*******************\n",
            "tf.Tensor(\n",
            "[[ 0  0  0  0 24  0  0 26 22  0  0  0  0  0  0  0  0 21  0  0]\n",
            " [25  0  0 26 27  0  0  0  0  0  0  0  0  0 28  0  0  0  0  0]\n",
            " [28  0  0  0  0  0  0  0  0 25  0  0  0 24  0  0 28  0  0  0]\n",
            " [27  0 22 29  0  0  0  0  0  0  0  0  0 24  0  0  0  0  0  0]\n",
            " [ 0  0 22  0 23  0  0  0  0  0  0  0 23  0  0  0  0  0  0 27]\n",
            " [ 0  0  0  0  0  0  0  0  0  0  0  0 28 26  0  0 28 29  0  0]\n",
            " [ 0  0  0 29 27  0  0  0  0  0 24 27  0  0  0  0  0  0  0  0]\n",
            " [ 0  0  0  0 25  0  0 26  0  0  0  0  0  0 22  0  0 24  0  0]\n",
            " [ 0  0  0 28  0  0  0  0 24 22  0 22  0  0  0  0  0  0  0  0]\n",
            " [25  0 24  0  0 27  0  0  0  0  0  0  0 28  0  0  0  0  0  0]], shape=(10, 20), dtype=int32)\n"
          ],
          "name": "stdout"
        }
      ]
    },
    {
      "cell_type": "markdown",
      "metadata": {
        "id": "3e0c5z1c_LIP",
        "colab_type": "text"
      },
      "source": [
        "# 4.Implement an exponential moving average. That is, given a decay rate a and an input tensor of length T, create a new length T tensor where new[0] = input[0] and new[t] = a * new[t-1] + (1-a) * input[t] otherwise. Do not use tf.train.ExponentialMovingAverage "
      ]
    },
    {
      "cell_type": "code",
      "metadata": {
        "id": "63zmbTMfEEjP",
        "colab_type": "code",
        "colab": {}
      },
      "source": [
        "\n",
        "@tf.function\n",
        "def exponential_moving_average(input, a):\n",
        "  ouput = [] \n",
        "  for i in range(input.shape[0]):\n",
        "    #print(\"this is i\",i)\n",
        "    if i == 0:\n",
        "      ouput.append(input[i])\n",
        "    else:\n",
        "      ouput.append(a * ouput[i-1] + (1-a)*input[i]) #2*26-8\n",
        "      #print(\"this is output\",output)\n",
        "  return tf.stack(ouput)"
      ],
      "execution_count": 0,
      "outputs": []
    },
    {
      "cell_type": "code",
      "metadata": {
        "id": "wGi8b57vEMu9",
        "colab_type": "code",
        "outputId": "a2ef4e10-68ec-40c1-e80f-8bcea790c886",
        "colab": {
          "base_uri": "https://localhost:8080/",
          "height": 151
        }
      },
      "source": [
        "RandomVariable = tf.Variable(tf.random.uniform([20],minval=1,maxval=30,dtype=tf.int32))\n",
        "print(RandomVariable)\n",
        "print(\"*******************\")\n",
        "output = exponential_moving_average(RandomVariable,2)\n",
        "print(output)"
      ],
      "execution_count": 0,
      "outputs": [
        {
          "output_type": "stream",
          "text": [
            "<tf.Variable 'Variable:0' shape=(20,) dtype=int32, numpy=\n",
            "array([26,  8,  4, 13,  9, 13,  7, 25, 13, 16, 25, 22, 18, 12, 11, 10,  8,\n",
            "        4, 11, 23], dtype=int32)>\n",
            "*******************\n",
            "tf.Tensor(\n",
            "[     26      44      84     155     301     589    1171    2317    4621\n",
            "    9226   18427   36832   73646  147280  294549  589088 1178168 2356332\n",
            " 4712653 9425283], shape=(20,), dtype=int32)\n"
          ],
          "name": "stdout"
        }
      ]
    },
    {
      "cell_type": "markdown",
      "metadata": {
        "id": "4jGkkTldFocl",
        "colab_type": "text"
      },
      "source": [
        "# **5.Find a way to return the last element in 4. without using loops. That is, return new[T] only – you don’t need to compute the other time steps (if you can avoid it).**"
      ]
    },
    {
      "cell_type": "code",
      "metadata": {
        "id": "FM_7rUkUF3tT",
        "colab_type": "code",
        "colab": {}
      },
      "source": [
        "#@tf.function\n",
        "def exponential_moving_average_last_element(input, a, i):\n",
        "  if i == 0:\n",
        "    return input[0]\n",
        "  else:\n",
        "    return a * exponential_moving_average_last_element(input,a,i-1) + (1-a) * input[i]"
      ],
      "execution_count": 0,
      "outputs": []
    },
    {
      "cell_type": "code",
      "metadata": {
        "id": "QdFlISicH5yy",
        "colab_type": "code",
        "outputId": "d258c1ad-2299-4500-a877-9d143d29954b",
        "colab": {
          "base_uri": "https://localhost:8080/",
          "height": 101
        }
      },
      "source": [
        "RandomVariable = tf.Variable(tf.random.uniform([20],minval=1,maxval=30,dtype=tf.int32))\n",
        "print(RandomVariable)\n",
        "print(\"*******************\")\n",
        "output = exponential_moving_average_last_element(RandomVariable,2,3)\n",
        "print(output)"
      ],
      "execution_count": 0,
      "outputs": [
        {
          "output_type": "stream",
          "text": [
            "<tf.Variable 'Variable:0' shape=(20,) dtype=int32, numpy=\n",
            "array([ 3, 19, 25, 11, 28,  2, 14,  1, 15,  1,  9,  9, 13,  4,  5, 24, 28,\n",
            "       18, 20, 15], dtype=int32)>\n",
            "*******************\n",
            "tf.Tensor(-113, shape=(), dtype=int32)\n"
          ],
          "name": "stdout"
        }
      ]
    },
    {
      "cell_type": "markdown",
      "metadata": {
        "id": "74W-rX6ZUWbZ",
        "colab_type": "text"
      },
      "source": [
        "# **6.Given three integer tensors x, y, z all of the same (arbitrary) shape, create a new tensor that takes values from y where x is even and from z where x is odd.**"
      ]
    },
    {
      "cell_type": "code",
      "metadata": {
        "id": "XPAVfJDLU57x",
        "colab_type": "code",
        "colab": {}
      },
      "source": [
        "@tf.function\n",
        "def even_odd(a, b, c):\n",
        "  stack = tf.stack([a,b,c], 0)\n",
        "  print(stack.shape)\n",
        "  return tf.map_fn(lambda t: t[1] if t[0]%2 == 0 else t[2], tf.transpose(stack))"
      ],
      "execution_count": 0,
      "outputs": []
    },
    {
      "cell_type": "code",
      "metadata": {
        "id": "xlhQUQYcUld1",
        "colab_type": "code",
        "outputId": "1e38ebb5-97f5-4c4c-bcc8-bd878730a5dc",
        "colab": {
          "base_uri": "https://localhost:8080/",
          "height": 202
        }
      },
      "source": [
        "x = tf.Variable(tf.random.uniform([20],minval=1,maxval=30,dtype=tf.int32))\n",
        "y = tf.Variable(tf.random.uniform([20],minval=1,maxval=30,dtype=tf.int32))\n",
        "z = tf.Variable(tf.random.uniform([20],minval=1,maxval=30,dtype=tf.int32))\n",
        "\n",
        "print(x)\n",
        "print(y)\n",
        "print(z)\n",
        "output = even_odd(x, y, z)\n",
        "print(output)"
      ],
      "execution_count": 0,
      "outputs": [
        {
          "output_type": "stream",
          "text": [
            "<tf.Variable 'Variable:0' shape=(20,) dtype=int32, numpy=\n",
            "array([29,  7,  1, 10, 10,  7,  2,  8,  5,  5, 26,  7,  8, 24, 11, 10, 29,\n",
            "        8,  8, 10], dtype=int32)>\n",
            "<tf.Variable 'Variable:0' shape=(20,) dtype=int32, numpy=\n",
            "array([24, 17, 29, 13, 12, 14,  8, 14, 12, 13, 19,  8,  5, 26, 24,  8,  5,\n",
            "       19, 21, 29], dtype=int32)>\n",
            "<tf.Variable 'Variable:0' shape=(20,) dtype=int32, numpy=\n",
            "array([26,  8, 23,  1, 15,  1,  5, 21,  6,  2, 21, 20, 29,  9,  3, 27, 10,\n",
            "        5, 14, 20], dtype=int32)>\n",
            "(3, 20)\n",
            "tf.Tensor([26  8 23 13 12  1  8 14  6  2 19 20  5 26  3  8 10 19 21 29], shape=(20,), dtype=int32)\n"
          ],
          "name": "stdout"
        }
      ]
    },
    {
      "cell_type": "markdown",
      "metadata": {
        "id": "UVU55yjxZUEN",
        "colab_type": "text"
      },
      "source": [
        "# **7.Given a tensor of arbitrary and unknown shape (but at least one dimension), return 100 if the last dimension has size > 100, 12 if the last dimension has size <= 100 and > 44, and return 0 otherwise.**"
      ]
    },
    {
      "cell_type": "code",
      "metadata": {
        "id": "9HLE6vs-ZZsf",
        "colab_type": "code",
        "colab": {}
      },
      "source": [
        "\n",
        "@tf.function\n",
        "def last_dimension_size(input):\n",
        "  shape = input.shape\n",
        "  print(shape)\n",
        "  last_dimension = shape[len(shape)-1]\n",
        "  print(last_dimension)\n",
        "\n",
        "  if last_dimension > 100:\n",
        "    return 100\n",
        "  elif last_dimension >= 44:\n",
        "    return 12\n",
        "  else:\n",
        "    return 0\n",
        "\n"
      ],
      "execution_count": 0,
      "outputs": []
    },
    {
      "cell_type": "code",
      "metadata": {
        "id": "1ebg8znwamHj",
        "colab_type": "code",
        "outputId": "b80cd8b7-29a2-4ec1-8f7d-7845b29a2b10",
        "colab": {
          "base_uri": "https://localhost:8080/",
          "height": 84
        }
      },
      "source": [
        "RandomVariable = tf.Variable(tf.random.uniform((2,3,400)))\n",
        "#print(RandomVariable)\n",
        "\n",
        "output = last_dimension_size(RandomVariable)\n",
        "\n",
        "print(\"*************************\")\n",
        "print(output)"
      ],
      "execution_count": 0,
      "outputs": [
        {
          "output_type": "stream",
          "text": [
            "(2, 3, 400)\n",
            "400\n",
            "*************************\n",
            "tf.Tensor(100, shape=(), dtype=int32)\n"
          ],
          "name": "stdout"
        }
      ]
    },
    {
      "cell_type": "markdown",
      "metadata": {
        "id": "3u2siieAb9Qc",
        "colab_type": "text"
      },
      "source": [
        "# 8.**As 7., but also create three global counts (integers), where count i should grow by 1 if condition i happened. Run the function from 7. multiple times to test whether your counting works. Now, add a @tf.function decorator to the function from 7. Does your counter still work? If not, why not? Can you change it so it does work?**"
      ]
    },
    {
      "cell_type": "code",
      "metadata": {
        "id": "4V8YqWi2cHeA",
        "colab_type": "code",
        "colab": {}
      },
      "source": [
        "\n",
        "\n",
        "counter1 = tf.constant(0)\n",
        "counter2 = tf.constant(0)\n",
        "counter3 = tf.constant(0)\n",
        "\n",
        "def last_dimension(input):\n",
        "  shape = input.shape\n",
        "  last_dim = shape[len(shape)-1]\n",
        "\n",
        "  global counter1\n",
        "  global counter2\n",
        "  global counter3\n",
        "\n",
        "  if last_dim > 100:\n",
        "    counter1 += 1\n",
        "    return 100\n",
        "  elif last_dim >= 44:\n",
        "    counter2 += 1\n",
        "    return 12\n",
        "  else:\n",
        "    counter3 += 1\n",
        "    return 0\n",
        "\n",
        "@tf.function\n",
        "def last_dimension_size_counter(input):\n",
        "  return tf.py_function(last_dimension, [input], Tout=[tf.int32])"
      ],
      "execution_count": 0,
      "outputs": []
    },
    {
      "cell_type": "code",
      "metadata": {
        "id": "MY0q0Ii7cRSq",
        "colab_type": "code",
        "outputId": "b1cb5b17-5d38-4507-fdbd-8a8d23dfb362",
        "colab": {
          "base_uri": "https://localhost:8080/",
          "height": 67
        }
      },
      "source": [
        "RandomVariable = tf.Variable(tf.random.uniform((2,3,340)))\n",
        "\n",
        "last_dimension_size_counter(RandomVariable)\n",
        "\n",
        "print(counter1)\n",
        "print(counter2)\n",
        "print(counter3)"
      ],
      "execution_count": 0,
      "outputs": [
        {
          "output_type": "stream",
          "text": [
            "tf.Tensor(1, shape=(), dtype=int32)\n",
            "tf.Tensor(0, shape=(), dtype=int32)\n",
            "tf.Tensor(0, shape=(), dtype=int32)\n"
          ],
          "name": "stdout"
        }
      ]
    },
    {
      "cell_type": "markdown",
      "metadata": {
        "id": "Gl0L25MXfdol",
        "colab_type": "text"
      },
      "source": [
        "# 9.**Given two 1D tensors of equal length n, create a tensor of shape (n, n) where element i,j is the ith element of the first tensor minus the jth element of the second tensor. No loops! Hint: Tensorflow supports broadcasting much like numpy.**"
      ]
    },
    {
      "cell_type": "code",
      "metadata": {
        "id": "L1jTjFevfixg",
        "colab_type": "code",
        "colab": {}
      },
      "source": [
        "@tf.function\n",
        "def function1(x, y):\n",
        "  z = tf.broadcast_to(-y,[x.shape[0], x.shape[0]])\n",
        "  z += tf.transpose(tf.reshape(x,(1,5)))\n",
        "\n",
        "  return z"
      ],
      "execution_count": 0,
      "outputs": []
    },
    {
      "cell_type": "code",
      "metadata": {
        "id": "9diRNkRjfvC5",
        "colab_type": "code",
        "outputId": "3fd2a917-8fec-417a-ae72-4f980217d6e2",
        "colab": {
          "base_uri": "https://localhost:8080/",
          "height": 151
        }
      },
      "source": [
        "x = tf.Variable(tf.random.uniform([5],minval=1,maxval=30,dtype=tf.int32))\n",
        "y = tf.Variable(tf.random.uniform([5],minval=1,maxval=30,dtype=tf.int32))\n",
        "\n",
        "print(x)\n",
        "print(y)\n",
        "output = function1(x,y)\n",
        "print(output)"
      ],
      "execution_count": 0,
      "outputs": [
        {
          "output_type": "stream",
          "text": [
            "<tf.Variable 'Variable:0' shape=(5,) dtype=int32, numpy=array([22, 23, 15, 25, 25], dtype=int32)>\n",
            "<tf.Variable 'Variable:0' shape=(5,) dtype=int32, numpy=array([28, 11,  8, 24,  5], dtype=int32)>\n",
            "tf.Tensor(\n",
            "[[ -6  11  14  -2  17]\n",
            " [ -5  12  15  -1  18]\n",
            " [-13   4   7  -9  10]\n",
            " [ -3  14  17   1  20]\n",
            " [ -3  14  17   1  20]], shape=(5, 5), dtype=int32)\n"
          ],
          "name": "stdout"
        }
      ]
    },
    {
      "cell_type": "markdown",
      "metadata": {
        "id": "VeYc8rzajCu5",
        "colab_type": "text"
      },
      "source": [
        "10.Implement dot product attention: You are given a sequence of encoder states h of shape batch x time x features and the last decoder state s of shape batch x features. Compute the attention weights alpha where alpha[:, i] is equal to h[:, i] * s where * is the dot product between vectors (in this case we also have a batch dimension so the dot product should be between the corresponding vectors within the batch). That is, alpha should be of shape batch x time and alpha[:, i] should contain the attention weights for encoder time step i. **bold text**"
      ]
    },
    {
      "cell_type": "code",
      "metadata": {
        "id": "P4Uqrl71Lmwc",
        "colab_type": "code",
        "colab": {}
      },
      "source": [
        "@tf.function\n",
        "def function10(x, y):\n",
        "  attention = tf.nn.softmax(tf.matmul(x,tf.expand_dims(y,2))[:,:,0],1)\n",
        "\n",
        "  return attention"
      ],
      "execution_count": 0,
      "outputs": []
    },
    {
      "cell_type": "code",
      "metadata": {
        "id": "4qS6GQdSINz4",
        "colab_type": "code",
        "colab": {
          "base_uri": "https://localhost:8080/",
          "height": 850
        },
        "outputId": "db8bae7c-232c-43b6-b87c-64e21784887a"
      },
      "source": [
        "import numpy as np\n",
        "enc_states = tf.Variable(np.random.normal(size=(16,10,32)),shape=[16,10,32],trainable=False,dtype=\"float32\")\n",
        "dec_states = tf.Variable(np.random.normal(size=(16,32)),shape=[16,32],trainable=False,dtype=\"float32\")\n",
        "\n",
        "attention = function10(enc_states,dec_states)\n",
        "print(attention)"
      ],
      "execution_count": 22,
      "outputs": [
        {
          "output_type": "stream",
          "text": [
            "tf.Tensor(\n",
            "[[3.16072116e-03 3.42590868e-01 5.10502141e-05 6.53995454e-01\n",
            "  1.11437203e-07 3.84636223e-06 9.18134674e-07 3.97726617e-05\n",
            "  2.01440891e-08 1.57235540e-04]\n",
            " [4.05544015e-05 1.29294014e-04 3.90998102e-05 7.38999724e-01\n",
            "  5.57149947e-03 2.75327625e-06 1.64603710e-01 4.84820717e-04\n",
            "  7.03430146e-07 9.01279002e-02]\n",
            " [4.57409897e-08 2.76453998e-02 1.72856318e-07 4.41386491e-01\n",
            "  5.20242572e-01 9.46065970e-03 4.00945573e-04 8.63353314e-04\n",
            "  2.89841440e-09 3.22426672e-07]\n",
            " [5.67554780e-05 9.24242300e-08 2.13625623e-04 9.52564418e-01\n",
            "  3.41258310e-09 9.63712864e-07 6.61480541e-08 1.16632168e-06\n",
            "  4.70815077e-02 8.13880688e-05]\n",
            " [6.49633725e-09 1.00109384e-04 1.35049447e-02 7.97968507e-02\n",
            "  1.21065845e-04 2.31069134e-04 4.50566202e-01 1.83816358e-01\n",
            "  5.28561475e-04 2.71334916e-01]\n",
            " [1.59110185e-02 2.03213608e-03 2.21519568e-03 1.49604661e-04\n",
            "  8.93827975e-01 2.39404337e-03 1.02976488e-03 3.48525901e-08\n",
            "  1.20631034e-08 8.24402124e-02]\n",
            " [2.62711523e-03 7.81526029e-01 6.63250976e-04 2.18317891e-03\n",
            "  1.28199405e-03 1.02654345e-01 7.87057076e-03 1.29982318e-05\n",
            "  1.47243275e-03 9.97080579e-02]\n",
            " [5.75825453e-01 7.06073406e-05 5.92467732e-05 1.85118741e-04\n",
            "  5.83573128e-04 4.71434796e-05 4.22257006e-01 4.65100486e-04\n",
            "  3.53072901e-05 4.71440871e-04]\n",
            " [4.30440341e-05 5.77597881e-09 3.57285951e-10 2.91968300e-03\n",
            "  1.08370591e-06 8.49818704e-08 3.26773245e-03 9.93760169e-01\n",
            "  3.39467135e-07 7.87687168e-06]\n",
            " [1.73746154e-03 1.38499504e-02 1.36798453e-05 8.03428019e-11\n",
            "  9.31881805e-05 2.68161949e-02 1.45464628e-05 3.73009503e-01\n",
            "  5.84465206e-01 3.32310407e-07]\n",
            " [5.47955860e-04 5.46508682e-06 1.09309084e-07 1.99044439e-06\n",
            "  1.81943251e-04 6.68026087e-06 2.89611499e-08 6.39828841e-07\n",
            "  9.99222755e-01 3.23719250e-05]\n",
            " [6.14783130e-05 8.15270527e-04 1.00760928e-06 4.70166240e-04\n",
            "  1.33186266e-01 3.50204186e-06 8.62555385e-01 1.95781770e-03\n",
            "  9.42006009e-04 7.06607943e-06]\n",
            " [3.68280439e-06 3.22919504e-07 1.37932411e-05 1.72436978e-06\n",
            "  3.41731716e-14 1.82945976e-12 5.79584623e-03 9.14736748e-01\n",
            "  7.94363096e-02 1.15504536e-05]\n",
            " [6.15723693e-05 1.91063819e-07 3.42209847e-03 3.63082690e-05\n",
            "  7.73758711e-06 5.07682891e-08 1.52719335e-03 9.94944870e-01\n",
            "  1.54323008e-08 1.30388473e-08]\n",
            " [1.27168040e-10 9.99995470e-01 7.93559749e-12 4.58397599e-12\n",
            "  5.65379188e-10 4.31284768e-08 4.06879366e-07 8.37796499e-09\n",
            "  2.78613771e-10 4.18364925e-06]\n",
            " [2.05523211e-05 1.42601598e-03 4.62091091e-04 2.85021542e-06\n",
            "  3.31272122e-06 2.27260334e-05 2.69973986e-02 2.11032857e-05\n",
            "  9.71029937e-01 1.39597323e-05]], shape=(16, 10), dtype=float32)\n"
          ],
          "name": "stdout"
        }
      ]
    },
    {
      "cell_type": "code",
      "metadata": {
        "id": "3lIyLLDrIOJB",
        "colab_type": "code",
        "colab": {}
      },
      "source": [
        ""
      ],
      "execution_count": 0,
      "outputs": []
    }
  ]
}