{
  "nbformat": 4,
  "nbformat_minor": 0,
  "metadata": {
    "colab": {
      "name": "Deep_Learning_Assignment_8.ipynb",
      "provenance": [],
      "collapsed_sections": []
    },
    "kernelspec": {
      "name": "python3",
      "display_name": "Python 3"
    }
  },
  "cells": [
    {
      "cell_type": "code",
      "metadata": {
        "id": "6N0bep2XtlAG",
        "colab_type": "code",
        "colab": {}
      },
      "source": [
        "#Bhargav Muktevi,Sharanya Hunasamaranahalli Thotadarya,Chaitanya Upadrasta"
      ],
      "execution_count": 0,
      "outputs": []
    },
    {
      "cell_type": "code",
      "metadata": {
        "id": "Cl-kKYtHx0fz",
        "colab_type": "code",
        "colab": {}
      },
      "source": [
        "import tensorflow as tf\n",
        "import numpy as np\n",
        "import matplotlib.pyplot as plt\n",
        "from tensorflow.keras import datasets, layers, models"
      ],
      "execution_count": 0,
      "outputs": []
    },
    {
      "cell_type": "markdown",
      "metadata": {
        "id": "1DL3eyOj137a",
        "colab_type": "text"
      },
      "source": [
        "# **Autoencoders** \n",
        "\n",
        "\n",
        "\n",
        "\n"
      ]
    },
    {
      "cell_type": "code",
      "metadata": {
        "id": "KcrxVO9Xvcq2",
        "colab_type": "code",
        "outputId": "2a897e24-76b1-4f8c-902b-f3338930aca9",
        "colab": {
          "base_uri": "https://localhost:8080/",
          "height": 530
        }
      },
      "source": [
        "F_mnist = tf.keras.datasets.fashion_mnist\n",
        "(train_images, train_labels), (test_images, test_labels) = F_mnist.load_data()\n",
        "print(train_labels[20])\n",
        "plt.imshow(train_images[20], cmap=\"Greys_r\")\n",
        "\n",
        "plt.figure()\n",
        "plt.imshow(train_images[10])\n",
        "plt.colorbar()\n",
        "plt.grid(False)\n",
        "plt.show()\n",
        "train_images = (train_images.astype(np.float32)/ 255. ).reshape((-1, 784))#normalize and reshape\n",
        "test_images = (test_images.astype(np.float32)/ 255. ).reshape((-1, 784))\n",
        "train_labels = train_labels.astype(np.int32)#conversion to int32\n",
        "test_labels = test_labels.astype(np.int32)\n"
      ],
      "execution_count": 2,
      "outputs": [
        {
          "output_type": "stream",
          "text": [
            "3\n"
          ],
          "name": "stdout"
        },
        {
          "output_type": "display_data",
          "data": {
            "image/png": "[encoded data removed]",
            "text/plain": [
              "<Figure size 432x288 with 1 Axes>"
            ]
          },
          "metadata": {
            "tags": [],
            "needs_background": "light"
          }
        },
        {
          "output_type": "display_data",
          "data": {
            "image/png": "[encoded data removed]",
            "text/plain": [
              "<Figure size 432x288 with 2 Axes>"
            ]
          },
          "metadata": {
            "tags": [],
            "needs_background": "light"
          }
        }
      ]
    },
    {
      "cell_type": "code",
      "metadata": {
        "id": "eawDVTxLxSHN",
        "colab_type": "code",
        "colab": {}
      },
      "source": [
        "model = models.Sequential()\n",
        "model.add(layers.Dense(128,activation='relu')) #encoder\n",
        "model.add(layers.Dense(64,activation='relu')) #encoder\n",
        "model.add(layers.Dense(128,activation='relu')) #decoder\n",
        "\n",
        "model.add(layers.Dense(784))#decoder"
      ],
      "execution_count": 0,
      "outputs": []
    },
    {
      "cell_type": "code",
      "metadata": {
        "id": "_H9VKDBUykHt",
        "colab_type": "code",
        "colab": {
          "base_uri": "https://localhost:8080/",
          "height": 370
        },
        "outputId": "951aeff6-4535-455b-ffb6-37f216ded5bc"
      },
      "source": [
        "model.compile(optimizer=tf.optimizers.Adam(),loss=tf.losses.BinaryCrossentropy(from_logits=True))\n",
        "model.fit(train_images,train_images, batch_size=128, epochs=10)"
      ],
      "execution_count": 4,
      "outputs": [
        {
          "output_type": "stream",
          "text": [
            "Epoch 1/10\n",
            "469/469 [==============================] - 4s 8ms/step - loss: 0.3391\n",
            "Epoch 2/10\n",
            "469/469 [==============================] - 4s 9ms/step - loss: 0.2936\n",
            "Epoch 3/10\n",
            "469/469 [==============================] - 4s 9ms/step - loss: 0.2866\n",
            "Epoch 4/10\n",
            "469/469 [==============================] - 4s 9ms/step - loss: 0.2825\n",
            "Epoch 5/10\n",
            "469/469 [==============================] - 4s 9ms/step - loss: 0.2799\n",
            "Epoch 6/10\n",
            "469/469 [==============================] - 4s 9ms/step - loss: 0.2779\n",
            "Epoch 7/10\n",
            "469/469 [==============================] - 4s 9ms/step - loss: 0.2764\n",
            "Epoch 8/10\n",
            "469/469 [==============================] - 4s 9ms/step - loss: 0.2753\n",
            "Epoch 9/10\n",
            "469/469 [==============================] - 4s 9ms/step - loss: 0.2743\n",
            "Epoch 10/10\n",
            "469/469 [==============================] - 4s 9ms/step - loss: 0.2734\n"
          ],
          "name": "stdout"
        },
        {
          "output_type": "execute_result",
          "data": {
            "text/plain": [
              "<tensorflow.python.keras.callbacks.History at 0x7f0fb2912198>"
            ]
          },
          "metadata": {
            "tags": []
          },
          "execution_count": 4
        }
      ]
    },
    {
      "cell_type": "markdown",
      "metadata": {
        "id": "l7ctZaDH2Prd",
        "colab_type": "text"
      },
      "source": [
        "# **Convolutional Autoencoders**"
      ]
    },
    {
      "cell_type": "code",
      "metadata": {
        "id": "5VZiVBVmxTiu",
        "colab_type": "code",
        "colab": {}
      },
      "source": [
        "F_mnist = tf.keras.datasets.fashion_mnist\n",
        "(train_images, train_labels), (test_images, test_labels) = F_mnist.load_data()\n",
        "\n",
        "\n",
        "train_images = train_images.reshape([60000,28,28,1]).astype(np.float32)/255\n",
        "inp=train_images.shape\n",
        "Conv_model = models.Sequential()\n",
        "Conv_model.add(layers.Conv2D(128,5,input_shape=(28, 28, 1),activation='relu',padding='same'))\n",
        "Conv_model.add(layers.Conv2D(64,5,activation='relu',padding='same'))\n",
        "Conv_model.add(layers.Conv2DTranspose(64,3,activation='relu',padding='same'))\n",
        "Conv_model.add(layers.Conv2DTranspose(1,5,padding='same'))\n"
      ],
      "execution_count": 0,
      "outputs": []
    },
    {
      "cell_type": "code",
      "metadata": {
        "id": "le88ro3RxqCW",
        "colab_type": "code",
        "colab": {
          "base_uri": "https://localhost:8080/",
          "height": 286
        },
        "outputId": "67452868-e475-4b2a-e6f7-d8663b9a4513"
      },
      "source": [
        "Conv_model.summary()\n"
      ],
      "execution_count": 6,
      "outputs": [
        {
          "output_type": "stream",
          "text": [
            "Model: \"sequential_1\"\n",
            "_________________________________________________________________\n",
            "Layer (type)                 Output Shape              Param #   \n",
            "=================================================================\n",
            "conv2d (Conv2D)              (None, 28, 28, 128)       3328      \n",
            "_________________________________________________________________\n",
            "conv2d_1 (Conv2D)            (None, 28, 28, 64)        204864    \n",
            "_________________________________________________________________\n",
            "conv2d_transpose (Conv2DTran (None, 28, 28, 64)        36928     \n",
            "_________________________________________________________________\n",
            "conv2d_transpose_1 (Conv2DTr (None, 28, 28, 1)         1601      \n",
            "=================================================================\n",
            "Total params: 246,721\n",
            "Trainable params: 246,721\n",
            "Non-trainable params: 0\n",
            "_________________________________________________________________\n"
          ],
          "name": "stdout"
        }
      ]
    },
    {
      "cell_type": "code",
      "metadata": {
        "id": "L6lJlQu5ynBe",
        "colab_type": "code",
        "colab": {}
      },
      "source": [
        "Conv_model.compile(optimizer=tf.optimizers.Adam(),loss=tf.losses.BinaryCrossentropy(from_logits=True))\n",
        "Conv_model.fit(train_images,train_images, batch_size=128, epochs=10)"
      ],
      "execution_count": 0,
      "outputs": []
    },
    {
      "cell_type": "markdown",
      "metadata": {
        "id": "9qJA_k6s2vMS",
        "colab_type": "text"
      },
      "source": [
        "# **Unsupervised Pretraining**"
      ]
    },
    {
      "cell_type": "code",
      "metadata": {
        "id": "PACFafRTy6tW",
        "colab_type": "code",
        "colab": {}
      },
      "source": [
        "F_mnist = tf.keras.datasets.fashion_mnist\n",
        "(train_images, train_labels), (test_images, test_labels) = F_mnist.load_data()\n",
        "train_images = (train_images.astype(np.float32)/ 255. ).reshape((-1, 784))#normalize and reshape\n",
        "test_images = (test_images.astype(np.float32)/ 255. ).reshape((-1, 784))\n",
        "train_labels = train_labels.astype(np.int32)#conversion to int32\n",
        "test_labels = test_labels.astype(np.int32)\n",
        " "
      ],
      "execution_count": 0,
      "outputs": []
    },
    {
      "cell_type": "code",
      "metadata": {
        "id": "Xp2sNoKCrpVY",
        "colab_type": "code",
        "colab": {}
      },
      "source": [
        "n = 1000  # for n random indices\n",
        "index = np.random.choice(train_labels.shape[0], n, replace=False)\n",
        "Y=train_labels[index]\n",
        "X=train_images[index]\n"
      ],
      "execution_count": 0,
      "outputs": []
    },
    {
      "cell_type": "code",
      "metadata": {
        "id": "Rx0iQqTfFcb_",
        "colab_type": "code",
        "colab": {}
      },
      "source": [
        "model = models.Sequential()\n",
        "model.add(layers.Dense(128,activation='relu')) #encoder\n",
        "model.add(layers.Dense(64,activation='relu')) #encoder\n",
        "model.add(layers.Dense(128,activation='relu')) #decoder\n",
        "\n",
        "model.add(layers.Dense(784))#decoder\n"
      ],
      "execution_count": 0,
      "outputs": []
    },
    {
      "cell_type": "code",
      "metadata": {
        "id": "_hE7xxXPx5LX",
        "colab_type": "code",
        "outputId": "02ed9a3f-366f-4130-a62f-d62591e4b29e",
        "colab": {
          "base_uri": "https://localhost:8080/",
          "height": 370
        }
      },
      "source": [
        "\n",
        "model.compile(optimizer=tf.optimizers.Adam(),loss=tf.losses.BinaryCrossentropy(from_logits=True))\n",
        "model.fit(train_images,train_images, batch_size=128, epochs=10)"
      ],
      "execution_count": 15,
      "outputs": [
        {
          "output_type": "stream",
          "text": [
            "Epoch 1/10\n",
            "469/469 [==============================] - 4s 9ms/step - loss: 0.3377\n",
            "Epoch 2/10\n",
            "469/469 [==============================] - 4s 9ms/step - loss: 0.2932\n",
            "Epoch 3/10\n",
            "469/469 [==============================] - 4s 9ms/step - loss: 0.2862\n",
            "Epoch 4/10\n",
            "469/469 [==============================] - 4s 9ms/step - loss: 0.2824\n",
            "Epoch 5/10\n",
            "469/469 [==============================] - 4s 9ms/step - loss: 0.2798\n",
            "Epoch 6/10\n",
            "469/469 [==============================] - 4s 9ms/step - loss: 0.2779\n",
            "Epoch 7/10\n",
            "469/469 [==============================] - 4s 9ms/step - loss: 0.2764\n",
            "Epoch 8/10\n",
            "469/469 [==============================] - 4s 9ms/step - loss: 0.2752\n",
            "Epoch 9/10\n",
            "469/469 [==============================] - 4s 9ms/step - loss: 0.2742\n",
            "Epoch 10/10\n",
            "469/469 [==============================] - 4s 9ms/step - loss: 0.2732\n"
          ],
          "name": "stdout"
        },
        {
          "output_type": "execute_result",
          "data": {
            "text/plain": [
              "<tensorflow.python.keras.callbacks.History at 0x7f0faf7303c8>"
            ]
          },
          "metadata": {
            "tags": []
          },
          "execution_count": 15
        }
      ]
    },
    {
      "cell_type": "code",
      "metadata": {
        "id": "BE2h4rSeq830",
        "colab_type": "code",
        "colab": {}
      },
      "source": [
        "pre_train = models.Sequential() \n",
        "pre_train.add(model.layers[0])\n",
        "pre_train.add(model.layers[1])\n",
        "X_train=pre_train.predict(X)\n",
        "X_test=pre_train.predict(test_images)\n"
      ],
      "execution_count": 0,
      "outputs": []
    },
    {
      "cell_type": "code",
      "metadata": {
        "id": "eyiRzjCsxt3c",
        "colab_type": "code",
        "colab": {
          "base_uri": "https://localhost:8080/",
          "height": 370
        },
        "outputId": "f8b199f5-7517-47ab-83a7-3d894fe22534"
      },
      "source": [
        "#Training a Feedforward neural network to on freezed encoder\n",
        "\n",
        "classifier=models.Sequential()\n",
        "classifier.add(layers.Dense(32,activation='relu'))\n",
        "classifier.add(layers.Dense(10))\n",
        "classifier.compile(optimizer=tf.optimizers.Adam(),loss=tf.losses.SparseCategoricalCrossentropy(from_logits=True),metrics=['sparse_categorical_accuracy'])\n",
        "classifier.fit(X_train,Y, batch_size=16, epochs=10)"
      ],
      "execution_count": 17,
      "outputs": [
        {
          "output_type": "stream",
          "text": [
            "Epoch 1/10\n",
            "63/63 [==============================] - 0s 1ms/step - loss: 2.8497 - sparse_categorical_accuracy: 0.2440\n",
            "Epoch 2/10\n",
            "63/63 [==============================] - 0s 1ms/step - loss: 1.4967 - sparse_categorical_accuracy: 0.4900\n",
            "Epoch 3/10\n",
            "63/63 [==============================] - 0s 1ms/step - loss: 1.1354 - sparse_categorical_accuracy: 0.6100\n",
            "Epoch 4/10\n",
            "63/63 [==============================] - 0s 1ms/step - loss: 0.9524 - sparse_categorical_accuracy: 0.6770\n",
            "Epoch 5/10\n",
            "63/63 [==============================] - 0s 1ms/step - loss: 0.8323 - sparse_categorical_accuracy: 0.7170\n",
            "Epoch 6/10\n",
            "63/63 [==============================] - 0s 1ms/step - loss: 0.7646 - sparse_categorical_accuracy: 0.7350\n",
            "Epoch 7/10\n",
            "63/63 [==============================] - 0s 1ms/step - loss: 0.7122 - sparse_categorical_accuracy: 0.7560\n",
            "Epoch 8/10\n",
            "63/63 [==============================] - 0s 1ms/step - loss: 0.6950 - sparse_categorical_accuracy: 0.7580\n",
            "Epoch 9/10\n",
            "63/63 [==============================] - 0s 1ms/step - loss: 0.6524 - sparse_categorical_accuracy: 0.7760\n",
            "Epoch 10/10\n",
            "63/63 [==============================] - 0s 1ms/step - loss: 0.6484 - sparse_categorical_accuracy: 0.7670\n"
          ],
          "name": "stdout"
        },
        {
          "output_type": "execute_result",
          "data": {
            "text/plain": [
              "<tensorflow.python.keras.callbacks.History at 0x7f0faf64fa90>"
            ]
          },
          "metadata": {
            "tags": []
          },
          "execution_count": 17
        }
      ]
    },
    {
      "cell_type": "code",
      "metadata": {
        "id": "HjV3OHQ71f2y",
        "colab_type": "code",
        "colab": {
          "base_uri": "https://localhost:8080/",
          "height": 50
        },
        "outputId": "e4318008-6f44-4cb7-be1f-8007d1504fcc"
      },
      "source": [
        "classifier.evaluate(X_test,test_labels)"
      ],
      "execution_count": 18,
      "outputs": [
        {
          "output_type": "stream",
          "text": [
            "313/313 [==============================] - 0s 1ms/step - loss: 0.6993 - sparse_categorical_accuracy: 0.7444\n"
          ],
          "name": "stdout"
        },
        {
          "output_type": "execute_result",
          "data": {
            "text/plain": [
              "[0.6993327140808105, 0.7444000244140625]"
            ]
          },
          "metadata": {
            "tags": []
          },
          "execution_count": 18
        }
      ]
    }
  ]
}